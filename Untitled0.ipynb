{
  "nbformat": 4,
  "nbformat_minor": 0,
  "metadata": {
    "colab": {
      "provenance": []
    },
    "kernelspec": {
      "name": "python3",
      "display_name": "Python 3"
    },
    "language_info": {
      "name": "python"
    }
  },
  "cells": [
    {
      "cell_type": "markdown",
      "source": [
        "# Load the dataset from a CSV file"
      ],
      "metadata": {
        "id": "y5BQa5FdPNBy"
      }
    },
    {
      "cell_type": "markdown",
      "source": [
        " Data Extraction (SQL)\n",
        "Here's a simple SQL query to extract the needed customer data from an e-commerce database:"
      ],
      "metadata": {
        "id": "feDCmubq71va"
      }
    },
    {
      "cell_type": "code",
      "source": [
        "SELECT customer_id, age, gender, total_spent, number_of_orders, last_purchase_date\n",
        "FROM customers\n",
        "WHERE active_status = 'Active';\n"
      ],
      "metadata": {
        "id": "mTyp2Wpi7v5J"
      },
      "execution_count": null,
      "outputs": []
    },
    {
      "cell_type": "markdown",
      "source": [
        "2. Data Cleaning and Preparation (Python with Pandas)\n",
        "Here's how you might clean and prepare your data using Python:"
      ],
      "metadata": {
        "id": "1oPd-5MZ75Hd"
      }
    },
    {
      "cell_type": "code",
      "source": [
        "import pandas as pd\n",
        "\n",
        "# Load data\n",
        "df = pd.read_csv('customers.csv')\n",
        "\n",
        "# Fill missing values\n",
        "df['age'].fillna(df['age'].mean(), inplace=True)\n",
        "\n",
        "# Convert last_purchase_date to datetime\n",
        "df['last_purchase_date'] = pd.to_datetime(df['last_purchase_date'])\n",
        "\n",
        "# Create a new feature: Days since last purchase\n",
        "df['days_since_last_purchase'] = (pd.to_datetime('today') - df['last_purchase_date']).dt.days\n"
      ],
      "metadata": {
        "id": "zJBjs84U7zB1"
      },
      "execution_count": null,
      "outputs": []
    },
    {
      "cell_type": "markdown",
      "source": [
        "3. Customer Segmentation using K-means Clustering (Python with Scikit-learn)\n",
        "Here's a basic example of applying K-means clustering:"
      ],
      "metadata": {
        "id": "n1gMnvfB78W6"
      }
    },
    {
      "cell_type": "code",
      "source": [
        "from sklearn.cluster import KMeans\n",
        "from sklearn.preprocessing import StandardScaler\n",
        "\n",
        "# Feature selection and scaling\n",
        "features = df[['age', 'total_spent', 'number_of_orders', 'days_since_last_purchase']]\n",
        "scaler = StandardScaler()\n",
        "features_scaled = scaler.fit_transform(features)\n",
        "\n",
        "# Clustering\n",
        "kmeans = KMeans(n_clusters=4, random_state=42)\n",
        "df['segment'] = kmeans.fit_predict(features_scaled)\n",
        "\n",
        "# Save the model for later use\n",
        "import joblib\n",
        "joblib.dump(kmeans, 'customer_segmentation_model.pkl')\n"
      ],
      "metadata": {
        "id": "4uc4jLgB7_Ew"
      },
      "execution_count": null,
      "outputs": []
    },
    {
      "cell_type": "markdown",
      "source": [
        "4. Visualization (Python with Matplotlib/Seaborn)\n",
        "Visualize the segments to understand their characteristics:"
      ],
      "metadata": {
        "id": "a50rQ-4f8Bte"
      }
    },
    {
      "cell_type": "code",
      "source": [
        "import matplotlib.pyplot as plt\n",
        "import seaborn as sns\n",
        "\n",
        "# Pairplot of the clustered data\n",
        "sns.pairplot(df, hue='segment')\n",
        "plt.title('Customer Segments Visualization')\n",
        "plt.show()\n"
      ],
      "metadata": {
        "id": "GBVT9IWM8EQn"
      },
      "execution_count": null,
      "outputs": []
    }
  ]
}